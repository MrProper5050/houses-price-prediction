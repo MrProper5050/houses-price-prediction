{
  "nbformat": 4,
  "nbformat_minor": 0,
  "metadata": {
    "colab": {
      "name": "House's price regression.ipynb",
      "provenance": [],
      "collapsed_sections": [
        "GdMoNRNadztL",
        "kRPk70lbwE0H"
      ],
      "mount_file_id": "https://gist.github.com/MrProper5050/61751b6bf5fb73ce238ae63f11e88f02#file-house-s-price-regression-ipynb",
      "authorship_tag": "ABX9TyNH3OO5HVfpkg8YKTzpZonw",
      "include_colab_link": true
    },
    "kernelspec": {
      "display_name": "Python 3",
      "name": "python3"
    },
    "language_info": {
      "name": "python"
    },
    "accelerator": "GPU"
  },
  "cells": [
    {
      "cell_type": "markdown",
      "metadata": {
        "id": "view-in-github",
        "colab_type": "text"
      },
      "source": [
        "<a href=\"https://colab.research.google.com/github/MrProper5050/houses-price-prediction/blob/main/House's_price_regression.ipynb\" target=\"_parent\"><img src=\"https://colab.research.google.com/assets/colab-badge.svg\" alt=\"Open In Colab\"/></a>"
      ]
    },
    {
      "cell_type": "code",
      "metadata": {
        "id": "XBElqlT6C4tk"
      },
      "source": [
        "!pip install fastai fastbook --upgrade"
      ],
      "execution_count": null,
      "outputs": []
    },
    {
      "cell_type": "code",
      "metadata": {
        "id": "sv8v9bpCCii8"
      },
      "source": [
        "from fastai.tabular.all import *\n",
        "from fastbook import *\n",
        "import pandas as pd\n"
      ],
      "execution_count": 2,
      "outputs": []
    },
    {
      "cell_type": "code",
      "metadata": {
        "id": "CT1mv0kyDjAa",
        "colab": {
          "base_uri": "https://localhost:8080/"
        },
        "outputId": "b99e7b52-f849-4b84-9d84-6261f21a7b5a"
      },
      "source": [
        "df = pd.read_csv('/content/drive/MyDrive/Datasets/house price/train.csv')\n",
        "df = df.drop('Id',1)\n",
        "df.columns"
      ],
      "execution_count": 3,
      "outputs": [
        {
          "output_type": "execute_result",
          "data": {
            "text/plain": [
              "Index(['MSSubClass', 'MSZoning', 'LotFrontage', 'LotArea', 'Street', 'Alley',\n",
              "       'LotShape', 'LandContour', 'Utilities', 'LotConfig', 'LandSlope',\n",
              "       'Neighborhood', 'Condition1', 'Condition2', 'BldgType', 'HouseStyle',\n",
              "       'OverallQual', 'OverallCond', 'YearBuilt', 'YearRemodAdd', 'RoofStyle',\n",
              "       'RoofMatl', 'Exterior1st', 'Exterior2nd', 'MasVnrType', 'MasVnrArea',\n",
              "       'ExterQual', 'ExterCond', 'Foundation', 'BsmtQual', 'BsmtCond',\n",
              "       'BsmtExposure', 'BsmtFinType1', 'BsmtFinSF1', 'BsmtFinType2',\n",
              "       'BsmtFinSF2', 'BsmtUnfSF', 'TotalBsmtSF', 'Heating', 'HeatingQC',\n",
              "       'CentralAir', 'Electrical', '1stFlrSF', '2ndFlrSF', 'LowQualFinSF',\n",
              "       'GrLivArea', 'BsmtFullBath', 'BsmtHalfBath', 'FullBath', 'HalfBath',\n",
              "       'BedroomAbvGr', 'KitchenAbvGr', 'KitchenQual', 'TotRmsAbvGrd',\n",
              "       'Functional', 'Fireplaces', 'FireplaceQu', 'GarageType', 'GarageYrBlt',\n",
              "       'GarageFinish', 'GarageCars', 'GarageArea', 'GarageQual', 'GarageCond',\n",
              "       'PavedDrive', 'WoodDeckSF', 'OpenPorchSF', 'EnclosedPorch', '3SsnPorch',\n",
              "       'ScreenPorch', 'PoolArea', 'PoolQC', 'Fence', 'MiscFeature', 'MiscVal',\n",
              "       'MoSold', 'YrSold', 'SaleType', 'SaleCondition', 'SalePrice'],\n",
              "      dtype='object')"
            ]
          },
          "metadata": {},
          "execution_count": 3
        }
      ]
    },
    {
      "cell_type": "code",
      "metadata": {
        "id": "Lf-rn2F86qfR"
      },
      "source": [
        "dep_var = 'SalePrice'"
      ],
      "execution_count": 4,
      "outputs": []
    },
    {
      "cell_type": "code",
      "metadata": {
        "id": "jqOrGUGh63-M"
      },
      "source": [
        "procs = [Categorify, FillMissing]\n",
        "cont, cat = cont_cat_split(df,1,dep_var=dep_var) # split on continious and categorical variables"
      ],
      "execution_count": 5,
      "outputs": []
    },
    {
      "cell_type": "code",
      "metadata": {
        "id": "8fO2trod8AqB"
      },
      "source": [
        "to = TabularPandas( df, procs, cat, cont, dep_var, splits=RandomSplitter(seed=1337)(range_of(df)) )"
      ],
      "execution_count": 6,
      "outputs": []
    },
    {
      "cell_type": "code",
      "metadata": {
        "colab": {
          "base_uri": "https://localhost:8080/"
        },
        "id": "rnYNaWZe8bkx",
        "outputId": "ff682651-15de-4794-911c-b240debe8698"
      },
      "source": [
        "len(to.train),len(to.valid)"
      ],
      "execution_count": 7,
      "outputs": [
        {
          "output_type": "execute_result",
          "data": {
            "text/plain": [
              "(1168, 292)"
            ]
          },
          "metadata": {},
          "execution_count": 7
        }
      ]
    },
    {
      "cell_type": "code",
      "metadata": {
        "colab": {
          "base_uri": "https://localhost:8080/",
          "height": 162
        },
        "id": "CO9OQi-C8onx",
        "outputId": "8515a696-7b56-41d9-b62f-24c892c8ea45"
      },
      "source": [
        "to.items.head(3)"
      ],
      "execution_count": 8,
      "outputs": [
        {
          "output_type": "execute_result",
          "data": {
            "text/html": [
              "<div>\n",
              "<style scoped>\n",
              "    .dataframe tbody tr th:only-of-type {\n",
              "        vertical-align: middle;\n",
              "    }\n",
              "\n",
              "    .dataframe tbody tr th {\n",
              "        vertical-align: top;\n",
              "    }\n",
              "\n",
              "    .dataframe thead th {\n",
              "        text-align: right;\n",
              "    }\n",
              "</style>\n",
              "<table border=\"1\" class=\"dataframe\">\n",
              "  <thead>\n",
              "    <tr style=\"text-align: right;\">\n",
              "      <th></th>\n",
              "      <th>MSSubClass</th>\n",
              "      <th>MSZoning</th>\n",
              "      <th>LotFrontage</th>\n",
              "      <th>LotArea</th>\n",
              "      <th>Street</th>\n",
              "      <th>Alley</th>\n",
              "      <th>LotShape</th>\n",
              "      <th>LandContour</th>\n",
              "      <th>Utilities</th>\n",
              "      <th>LotConfig</th>\n",
              "      <th>LandSlope</th>\n",
              "      <th>Neighborhood</th>\n",
              "      <th>Condition1</th>\n",
              "      <th>Condition2</th>\n",
              "      <th>BldgType</th>\n",
              "      <th>HouseStyle</th>\n",
              "      <th>OverallQual</th>\n",
              "      <th>OverallCond</th>\n",
              "      <th>YearBuilt</th>\n",
              "      <th>YearRemodAdd</th>\n",
              "      <th>RoofStyle</th>\n",
              "      <th>RoofMatl</th>\n",
              "      <th>Exterior1st</th>\n",
              "      <th>Exterior2nd</th>\n",
              "      <th>MasVnrType</th>\n",
              "      <th>MasVnrArea</th>\n",
              "      <th>ExterQual</th>\n",
              "      <th>ExterCond</th>\n",
              "      <th>Foundation</th>\n",
              "      <th>BsmtQual</th>\n",
              "      <th>BsmtCond</th>\n",
              "      <th>BsmtExposure</th>\n",
              "      <th>BsmtFinType1</th>\n",
              "      <th>BsmtFinSF1</th>\n",
              "      <th>BsmtFinType2</th>\n",
              "      <th>BsmtFinSF2</th>\n",
              "      <th>BsmtUnfSF</th>\n",
              "      <th>TotalBsmtSF</th>\n",
              "      <th>Heating</th>\n",
              "      <th>HeatingQC</th>\n",
              "      <th>CentralAir</th>\n",
              "      <th>Electrical</th>\n",
              "      <th>1stFlrSF</th>\n",
              "      <th>2ndFlrSF</th>\n",
              "      <th>LowQualFinSF</th>\n",
              "      <th>GrLivArea</th>\n",
              "      <th>BsmtFullBath</th>\n",
              "      <th>BsmtHalfBath</th>\n",
              "      <th>FullBath</th>\n",
              "      <th>HalfBath</th>\n",
              "      <th>BedroomAbvGr</th>\n",
              "      <th>KitchenAbvGr</th>\n",
              "      <th>KitchenQual</th>\n",
              "      <th>TotRmsAbvGrd</th>\n",
              "      <th>Functional</th>\n",
              "      <th>Fireplaces</th>\n",
              "      <th>FireplaceQu</th>\n",
              "      <th>GarageType</th>\n",
              "      <th>GarageYrBlt</th>\n",
              "      <th>GarageFinish</th>\n",
              "      <th>GarageCars</th>\n",
              "      <th>GarageArea</th>\n",
              "      <th>GarageQual</th>\n",
              "      <th>GarageCond</th>\n",
              "      <th>PavedDrive</th>\n",
              "      <th>WoodDeckSF</th>\n",
              "      <th>OpenPorchSF</th>\n",
              "      <th>EnclosedPorch</th>\n",
              "      <th>3SsnPorch</th>\n",
              "      <th>ScreenPorch</th>\n",
              "      <th>PoolArea</th>\n",
              "      <th>PoolQC</th>\n",
              "      <th>Fence</th>\n",
              "      <th>MiscFeature</th>\n",
              "      <th>MiscVal</th>\n",
              "      <th>MoSold</th>\n",
              "      <th>YrSold</th>\n",
              "      <th>SaleType</th>\n",
              "      <th>SaleCondition</th>\n",
              "      <th>SalePrice</th>\n",
              "      <th>LotFrontage_na</th>\n",
              "      <th>MasVnrArea_na</th>\n",
              "      <th>GarageYrBlt_na</th>\n",
              "    </tr>\n",
              "  </thead>\n",
              "  <tbody>\n",
              "    <tr>\n",
              "      <th>296</th>\n",
              "      <td>50</td>\n",
              "      <td>5</td>\n",
              "      <td>75.0</td>\n",
              "      <td>13710</td>\n",
              "      <td>2</td>\n",
              "      <td>0</td>\n",
              "      <td>4</td>\n",
              "      <td>4</td>\n",
              "      <td>1</td>\n",
              "      <td>5</td>\n",
              "      <td>1</td>\n",
              "      <td>10</td>\n",
              "      <td>3</td>\n",
              "      <td>3</td>\n",
              "      <td>1</td>\n",
              "      <td>1</td>\n",
              "      <td>5</td>\n",
              "      <td>5</td>\n",
              "      <td>1950</td>\n",
              "      <td>1950</td>\n",
              "      <td>2</td>\n",
              "      <td>2</td>\n",
              "      <td>14</td>\n",
              "      <td>15</td>\n",
              "      <td>3</td>\n",
              "      <td>0.0</td>\n",
              "      <td>4</td>\n",
              "      <td>5</td>\n",
              "      <td>2</td>\n",
              "      <td>4</td>\n",
              "      <td>4</td>\n",
              "      <td>4</td>\n",
              "      <td>2</td>\n",
              "      <td>420</td>\n",
              "      <td>6</td>\n",
              "      <td>0</td>\n",
              "      <td>490</td>\n",
              "      <td>910</td>\n",
              "      <td>2</td>\n",
              "      <td>5</td>\n",
              "      <td>2</td>\n",
              "      <td>1</td>\n",
              "      <td>910</td>\n",
              "      <td>648</td>\n",
              "      <td>0</td>\n",
              "      <td>1558</td>\n",
              "      <td>0</td>\n",
              "      <td>0</td>\n",
              "      <td>1</td>\n",
              "      <td>1</td>\n",
              "      <td>4</td>\n",
              "      <td>1</td>\n",
              "      <td>4</td>\n",
              "      <td>6</td>\n",
              "      <td>7</td>\n",
              "      <td>0</td>\n",
              "      <td>0</td>\n",
              "      <td>2</td>\n",
              "      <td>1950.0</td>\n",
              "      <td>3</td>\n",
              "      <td>1</td>\n",
              "      <td>282</td>\n",
              "      <td>5</td>\n",
              "      <td>5</td>\n",
              "      <td>3</td>\n",
              "      <td>289</td>\n",
              "      <td>0</td>\n",
              "      <td>0</td>\n",
              "      <td>0</td>\n",
              "      <td>0</td>\n",
              "      <td>0</td>\n",
              "      <td>0</td>\n",
              "      <td>3</td>\n",
              "      <td>0</td>\n",
              "      <td>0</td>\n",
              "      <td>6</td>\n",
              "      <td>2007</td>\n",
              "      <td>9</td>\n",
              "      <td>5</td>\n",
              "      <td>152000</td>\n",
              "      <td>1</td>\n",
              "      <td>1</td>\n",
              "      <td>1</td>\n",
              "    </tr>\n",
              "    <tr>\n",
              "      <th>453</th>\n",
              "      <td>60</td>\n",
              "      <td>2</td>\n",
              "      <td>75.0</td>\n",
              "      <td>9000</td>\n",
              "      <td>2</td>\n",
              "      <td>0</td>\n",
              "      <td>4</td>\n",
              "      <td>4</td>\n",
              "      <td>1</td>\n",
              "      <td>5</td>\n",
              "      <td>1</td>\n",
              "      <td>22</td>\n",
              "      <td>3</td>\n",
              "      <td>3</td>\n",
              "      <td>1</td>\n",
              "      <td>6</td>\n",
              "      <td>8</td>\n",
              "      <td>5</td>\n",
              "      <td>2008</td>\n",
              "      <td>2008</td>\n",
              "      <td>2</td>\n",
              "      <td>2</td>\n",
              "      <td>13</td>\n",
              "      <td>14</td>\n",
              "      <td>3</td>\n",
              "      <td>0.0</td>\n",
              "      <td>3</td>\n",
              "      <td>5</td>\n",
              "      <td>3</td>\n",
              "      <td>3</td>\n",
              "      <td>4</td>\n",
              "      <td>4</td>\n",
              "      <td>6</td>\n",
              "      <td>0</td>\n",
              "      <td>6</td>\n",
              "      <td>0</td>\n",
              "      <td>768</td>\n",
              "      <td>768</td>\n",
              "      <td>2</td>\n",
              "      <td>1</td>\n",
              "      <td>2</td>\n",
              "      <td>5</td>\n",
              "      <td>786</td>\n",
              "      <td>804</td>\n",
              "      <td>0</td>\n",
              "      <td>1590</td>\n",
              "      <td>0</td>\n",
              "      <td>0</td>\n",
              "      <td>2</td>\n",
              "      <td>1</td>\n",
              "      <td>3</td>\n",
              "      <td>1</td>\n",
              "      <td>3</td>\n",
              "      <td>6</td>\n",
              "      <td>7</td>\n",
              "      <td>0</td>\n",
              "      <td>0</td>\n",
              "      <td>2</td>\n",
              "      <td>2008.0</td>\n",
              "      <td>2</td>\n",
              "      <td>2</td>\n",
              "      <td>676</td>\n",
              "      <td>5</td>\n",
              "      <td>5</td>\n",
              "      <td>3</td>\n",
              "      <td>0</td>\n",
              "      <td>30</td>\n",
              "      <td>0</td>\n",
              "      <td>0</td>\n",
              "      <td>0</td>\n",
              "      <td>0</td>\n",
              "      <td>0</td>\n",
              "      <td>0</td>\n",
              "      <td>0</td>\n",
              "      <td>0</td>\n",
              "      <td>6</td>\n",
              "      <td>2009</td>\n",
              "      <td>9</td>\n",
              "      <td>5</td>\n",
              "      <td>210000</td>\n",
              "      <td>1</td>\n",
              "      <td>1</td>\n",
              "      <td>1</td>\n",
              "    </tr>\n",
              "    <tr>\n",
              "      <th>992</th>\n",
              "      <td>60</td>\n",
              "      <td>4</td>\n",
              "      <td>80.0</td>\n",
              "      <td>9760</td>\n",
              "      <td>2</td>\n",
              "      <td>0</td>\n",
              "      <td>4</td>\n",
              "      <td>4</td>\n",
              "      <td>1</td>\n",
              "      <td>5</td>\n",
              "      <td>2</td>\n",
              "      <td>13</td>\n",
              "      <td>3</td>\n",
              "      <td>3</td>\n",
              "      <td>1</td>\n",
              "      <td>6</td>\n",
              "      <td>6</td>\n",
              "      <td>8</td>\n",
              "      <td>1964</td>\n",
              "      <td>1993</td>\n",
              "      <td>4</td>\n",
              "      <td>2</td>\n",
              "      <td>14</td>\n",
              "      <td>15</td>\n",
              "      <td>2</td>\n",
              "      <td>340.0</td>\n",
              "      <td>4</td>\n",
              "      <td>5</td>\n",
              "      <td>2</td>\n",
              "      <td>4</td>\n",
              "      <td>4</td>\n",
              "      <td>2</td>\n",
              "      <td>2</td>\n",
              "      <td>536</td>\n",
              "      <td>5</td>\n",
              "      <td>117</td>\n",
              "      <td>169</td>\n",
              "      <td>822</td>\n",
              "      <td>2</td>\n",
              "      <td>3</td>\n",
              "      <td>2</td>\n",
              "      <td>5</td>\n",
              "      <td>1020</td>\n",
              "      <td>831</td>\n",
              "      <td>0</td>\n",
              "      <td>1851</td>\n",
              "      <td>0</td>\n",
              "      <td>0</td>\n",
              "      <td>2</td>\n",
              "      <td>1</td>\n",
              "      <td>3</td>\n",
              "      <td>1</td>\n",
              "      <td>3</td>\n",
              "      <td>7</td>\n",
              "      <td>7</td>\n",
              "      <td>1</td>\n",
              "      <td>2</td>\n",
              "      <td>2</td>\n",
              "      <td>1964.0</td>\n",
              "      <td>2</td>\n",
              "      <td>2</td>\n",
              "      <td>440</td>\n",
              "      <td>5</td>\n",
              "      <td>5</td>\n",
              "      <td>3</td>\n",
              "      <td>239</td>\n",
              "      <td>42</td>\n",
              "      <td>0</td>\n",
              "      <td>0</td>\n",
              "      <td>0</td>\n",
              "      <td>0</td>\n",
              "      <td>0</td>\n",
              "      <td>4</td>\n",
              "      <td>0</td>\n",
              "      <td>0</td>\n",
              "      <td>7</td>\n",
              "      <td>2007</td>\n",
              "      <td>9</td>\n",
              "      <td>5</td>\n",
              "      <td>187000</td>\n",
              "      <td>1</td>\n",
              "      <td>1</td>\n",
              "      <td>1</td>\n",
              "    </tr>\n",
              "  </tbody>\n",
              "</table>\n",
              "</div>"
            ],
            "text/plain": [
              "     MSSubClass  MSZoning  LotFrontage  LotArea  Street  Alley  LotShape  \\\n",
              "296          50         5         75.0    13710       2      0         4   \n",
              "453          60         2         75.0     9000       2      0         4   \n",
              "992          60         4         80.0     9760       2      0         4   \n",
              "\n",
              "     LandContour  Utilities  LotConfig  LandSlope  Neighborhood  Condition1  \\\n",
              "296            4          1          5          1            10           3   \n",
              "453            4          1          5          1            22           3   \n",
              "992            4          1          5          2            13           3   \n",
              "\n",
              "     Condition2  BldgType  HouseStyle  OverallQual  OverallCond  YearBuilt  \\\n",
              "296           3         1           1            5            5       1950   \n",
              "453           3         1           6            8            5       2008   \n",
              "992           3         1           6            6            8       1964   \n",
              "\n",
              "     YearRemodAdd  RoofStyle  RoofMatl  Exterior1st  Exterior2nd  MasVnrType  \\\n",
              "296          1950          2         2           14           15           3   \n",
              "453          2008          2         2           13           14           3   \n",
              "992          1993          4         2           14           15           2   \n",
              "\n",
              "     MasVnrArea  ExterQual  ExterCond  Foundation  BsmtQual  BsmtCond  \\\n",
              "296         0.0          4          5           2         4         4   \n",
              "453         0.0          3          5           3         3         4   \n",
              "992       340.0          4          5           2         4         4   \n",
              "\n",
              "     BsmtExposure  BsmtFinType1  BsmtFinSF1  BsmtFinType2  BsmtFinSF2  \\\n",
              "296             4             2         420             6           0   \n",
              "453             4             6           0             6           0   \n",
              "992             2             2         536             5         117   \n",
              "\n",
              "     BsmtUnfSF  TotalBsmtSF  Heating  HeatingQC  CentralAir  Electrical  \\\n",
              "296        490          910        2          5           2           1   \n",
              "453        768          768        2          1           2           5   \n",
              "992        169          822        2          3           2           5   \n",
              "\n",
              "     1stFlrSF  2ndFlrSF  LowQualFinSF  GrLivArea  BsmtFullBath  BsmtHalfBath  \\\n",
              "296       910       648             0       1558             0             0   \n",
              "453       786       804             0       1590             0             0   \n",
              "992      1020       831             0       1851             0             0   \n",
              "\n",
              "     FullBath  HalfBath  BedroomAbvGr  KitchenAbvGr  KitchenQual  \\\n",
              "296         1         1             4             1            4   \n",
              "453         2         1             3             1            3   \n",
              "992         2         1             3             1            3   \n",
              "\n",
              "     TotRmsAbvGrd  Functional  Fireplaces  FireplaceQu  GarageType  \\\n",
              "296             6           7           0            0           2   \n",
              "453             6           7           0            0           2   \n",
              "992             7           7           1            2           2   \n",
              "\n",
              "     GarageYrBlt  GarageFinish  GarageCars  GarageArea  GarageQual  \\\n",
              "296       1950.0             3           1         282           5   \n",
              "453       2008.0             2           2         676           5   \n",
              "992       1964.0             2           2         440           5   \n",
              "\n",
              "     GarageCond  PavedDrive  WoodDeckSF  OpenPorchSF  EnclosedPorch  \\\n",
              "296           5           3         289            0              0   \n",
              "453           5           3           0           30              0   \n",
              "992           5           3         239           42              0   \n",
              "\n",
              "     3SsnPorch  ScreenPorch  PoolArea  PoolQC  Fence  MiscFeature  MiscVal  \\\n",
              "296          0            0         0       0      3            0        0   \n",
              "453          0            0         0       0      0            0        0   \n",
              "992          0            0         0       0      4            0        0   \n",
              "\n",
              "     MoSold  YrSold  SaleType  SaleCondition  SalePrice  LotFrontage_na  \\\n",
              "296       6    2007         9              5     152000               1   \n",
              "453       6    2009         9              5     210000               1   \n",
              "992       7    2007         9              5     187000               1   \n",
              "\n",
              "     MasVnrArea_na  GarageYrBlt_na  \n",
              "296              1               1  \n",
              "453              1               1  \n",
              "992              1               1  "
            ]
          },
          "metadata": {},
          "execution_count": 8
        }
      ]
    },
    {
      "cell_type": "code",
      "metadata": {
        "id": "zcwLVp-J-DpU"
      },
      "source": [
        "#save tabular object to use it in future\n",
        "path = Path()\n",
        "save_pickle(path/'to.pkl',to)"
      ],
      "execution_count": 9,
      "outputs": []
    },
    {
      "cell_type": "code",
      "metadata": {
        "id": "kPy2nGqq-Mwv"
      },
      "source": [
        "#restore tabular object\n",
        "to = load_pickle(path/'to.pkl')"
      ],
      "execution_count": 10,
      "outputs": []
    },
    {
      "cell_type": "code",
      "metadata": {
        "id": "I2re003H-rM4"
      },
      "source": [
        "xs,y = to.train.xs,to.train.y\n",
        "v_xs,v_y = to.valid.xs,to.valid.y"
      ],
      "execution_count": 9,
      "outputs": []
    },
    {
      "cell_type": "code",
      "metadata": {
        "id": "c4KS31xl_eDj"
      },
      "source": [
        "from sklearn.ensemble import RandomForestRegressor"
      ],
      "execution_count": 10,
      "outputs": []
    },
    {
      "cell_type": "code",
      "metadata": {
        "id": "-dtn_mYCFnOp"
      },
      "source": [
        "#loss RMSE function\n",
        "def r_mse(pred,y): return round(math.sqrt(((pred-y)**2).mean()), 6)\n",
        "#loss RMSLE function\n",
        "def r_msle(pred,y): return round(math.sqrt(((np.log(pred)-np.log(y))**2).mean()), 6)\n",
        "def m_rmsle(m, xs, y): return r_msle(m.predict(xs), y)"
      ],
      "execution_count": 11,
      "outputs": []
    },
    {
      "cell_type": "markdown",
      "metadata": {
        "id": "QVUSFlnRU1xe"
      },
      "source": [
        "**Technical note:**\n",
        "\n",
        "> On this dataset, we use RMSLE because the usual RMSE is highly susceptible to data outliers and its estimate skyrockets. Turning into a logarithmic function saves us from the problem of outliers.\n",
        "\n",
        "\n",
        "\n"
      ]
    },
    {
      "cell_type": "code",
      "metadata": {
        "id": "wCAiBw3vOGrU"
      },
      "source": [
        "#auxiliary func for creating and fitting RF\n",
        "def rf(xs,y,n_estimators=40,max_samples=100, max_features=.4, min_samples_leaf=5, **kwargs):\n",
        "  return RandomForestRegressor(n_estimators=n_estimators, max_samples=max_samples,max_features=max_features, min_samples_leaf=min_samples_leaf, oob_score=True).fit(xs,y)"
      ],
      "execution_count": 12,
      "outputs": []
    },
    {
      "cell_type": "code",
      "metadata": {
        "id": "7oaeSLStRHrV"
      },
      "source": [
        "model = rf(xs,y)"
      ],
      "execution_count": 13,
      "outputs": []
    },
    {
      "cell_type": "code",
      "metadata": {
        "colab": {
          "base_uri": "https://localhost:8080/"
        },
        "id": "pqXTbracRLxu",
        "outputId": "44574d02-319f-4a17-8896-3f596f72bfc3"
      },
      "source": [
        "#we are looking at the RMSLE error rating on the training and validation sets\n",
        "m_rmsle(model, xs, y), m_rmsle(model, v_xs, v_y)"
      ],
      "execution_count": 14,
      "outputs": [
        {
          "output_type": "execute_result",
          "data": {
            "text/plain": [
              "(0.174005, 0.183826)"
            ]
          },
          "metadata": {},
          "execution_count": 14
        }
      ]
    },
    {
      "cell_type": "code",
      "metadata": {
        "colab": {
          "base_uri": "https://localhost:8080/"
        },
        "id": "U2DLK1tcZTOo",
        "outputId": "beecabe2-6e89-4db7-86a3-80815c94c419"
      },
      "source": [
        "r_msle(model.oob_prediction_, y)"
      ],
      "execution_count": 15,
      "outputs": [
        {
          "output_type": "execute_result",
          "data": {
            "text/plain": [
              "0.181417"
            ]
          },
          "metadata": {},
          "execution_count": 15
        }
      ]
    },
    {
      "cell_type": "code",
      "metadata": {
        "colab": {
          "base_uri": "https://localhost:8080/"
        },
        "id": "2RciNdDhV-0b",
        "outputId": "349134dc-aba0-40d7-e837-f7e34c1d53b1"
      },
      "source": [
        "preds = np.stack([t.predict(v_xs) for t in model.estimators_])#get predictions from each decision tree for each house's sale\n",
        "preds.shape"
      ],
      "execution_count": 16,
      "outputs": [
        {
          "output_type": "execute_result",
          "data": {
            "text/plain": [
              "(40, 292)"
            ]
          },
          "metadata": {},
          "execution_count": 16
        }
      ]
    },
    {
      "cell_type": "markdown",
      "metadata": {
        "id": "niqcGBpijt2u"
      },
      "source": [
        "**Technical note:**\n",
        "\n",
        "> Variance of trees for the reliability of predictions - simply, instead of the `mean` function, use `std` to combine predictions of all trees."
      ]
    },
    {
      "cell_type": "code",
      "metadata": {
        "colab": {
          "base_uri": "https://localhost:8080/"
        },
        "id": "a5qLpb5bdruz",
        "outputId": "8edac7b8-c348-46aa-bcf9-42edfa033383"
      },
      "source": [
        "preds_std = preds.std(1)\n",
        "\n",
        "(preds_std[:5])/preds.mean() "
      ],
      "execution_count": 17,
      "outputs": [
        {
          "output_type": "execute_result",
          "data": {
            "text/plain": [
              "array([0.36998984, 0.3646956 , 0.47222193, 0.3294716 , 0.37296901])"
            ]
          },
          "metadata": {},
          "execution_count": 17
        }
      ]
    },
    {
      "cell_type": "markdown",
      "metadata": {
        "id": "CQVFKKJGXnyx"
      },
      "source": [
        "These values are called the reliability of predictions. The lower the better. The standard deviation is an indicator of the variance of the data.\n",
        "\n",
        "In our particular case: if the standard deviation is high, it means that the predictions of the trees on a specific example (x, sample) of the data are too different from each other and we cannot trust the prediction obtained, it is better to check manually. Otherwise, if std is low, then we can trust the prediction."
      ]
    },
    {
      "cell_type": "code",
      "metadata": {
        "colab": {
          "base_uri": "https://localhost:8080/"
        },
        "id": "XAMTt6q_e0xb",
        "outputId": "5b3efd85-f345-470b-f5a0-b5f85a781766"
      },
      "source": [
        "preds.mean(0)[:5] # actual predictions"
      ],
      "execution_count": 18,
      "outputs": [
        {
          "output_type": "execute_result",
          "data": {
            "text/plain": [
              "array([208528.9540377 , 208192.40821429, 104912.31388889, 275423.40473214, 134707.00337302])"
            ]
          },
          "metadata": {},
          "execution_count": 18
        }
      ]
    },
    {
      "cell_type": "code",
      "metadata": {
        "colab": {
          "base_uri": "https://localhost:8080/",
          "height": 204
        },
        "id": "y9alg0EDOrMM",
        "outputId": "06e3ddcf-b8e1-48b5-ea62-54d73a3c34d5"
      },
      "source": [
        "#what is the most important variables in decision trees\n",
        "def rf_feature_importance(m,df):\n",
        "  return pd.DataFrame({'cols':df.columns, 'imp':m.feature_importances_}).sort_values('imp', ascending=False)\n",
        "imp = rf_feature_importance(model,xs)\n",
        "imp[:5]\n"
      ],
      "execution_count": 19,
      "outputs": [
        {
          "output_type": "execute_result",
          "data": {
            "text/html": [
              "<div>\n",
              "<style scoped>\n",
              "    .dataframe tbody tr th:only-of-type {\n",
              "        vertical-align: middle;\n",
              "    }\n",
              "\n",
              "    .dataframe tbody tr th {\n",
              "        vertical-align: top;\n",
              "    }\n",
              "\n",
              "    .dataframe thead th {\n",
              "        text-align: right;\n",
              "    }\n",
              "</style>\n",
              "<table border=\"1\" class=\"dataframe\">\n",
              "  <thead>\n",
              "    <tr style=\"text-align: right;\">\n",
              "      <th></th>\n",
              "      <th>cols</th>\n",
              "      <th>imp</th>\n",
              "    </tr>\n",
              "  </thead>\n",
              "  <tbody>\n",
              "    <tr>\n",
              "      <th>49</th>\n",
              "      <td>OverallQual</td>\n",
              "      <td>0.219279</td>\n",
              "    </tr>\n",
              "    <tr>\n",
              "      <th>61</th>\n",
              "      <td>GrLivArea</td>\n",
              "      <td>0.133273</td>\n",
              "    </tr>\n",
              "    <tr>\n",
              "      <th>71</th>\n",
              "      <td>GarageCars</td>\n",
              "      <td>0.108784</td>\n",
              "    </tr>\n",
              "    <tr>\n",
              "      <th>58</th>\n",
              "      <td>1stFlrSF</td>\n",
              "      <td>0.074688</td>\n",
              "    </tr>\n",
              "    <tr>\n",
              "      <th>72</th>\n",
              "      <td>GarageArea</td>\n",
              "      <td>0.062598</td>\n",
              "    </tr>\n",
              "  </tbody>\n",
              "</table>\n",
              "</div>"
            ],
            "text/plain": [
              "           cols       imp\n",
              "49  OverallQual  0.219279\n",
              "61    GrLivArea  0.133273\n",
              "71   GarageCars  0.108784\n",
              "58     1stFlrSF  0.074688\n",
              "72   GarageArea  0.062598"
            ]
          },
          "metadata": {},
          "execution_count": 19
        }
      ]
    },
    {
      "cell_type": "code",
      "metadata": {
        "id": "e6b6eQpIx3BW",
        "colab": {
          "base_uri": "https://localhost:8080/"
        },
        "outputId": "d366c379-334f-40d7-fc60-93223008b788"
      },
      "source": [
        "# create new dataset without unnecessary variables\n",
        "to_keep = imp[imp.imp>0.01].cols\n",
        "imp_xs = xs[to_keep]\n",
        "imp_v_xs = v_xs[to_keep]\n",
        "to_keep"
      ],
      "execution_count": 20,
      "outputs": [
        {
          "output_type": "execute_result",
          "data": {
            "text/plain": [
              "49     OverallQual\n",
              "61       GrLivArea\n",
              "71      GarageCars\n",
              "58        1stFlrSF\n",
              "72      GarageArea\n",
              "51       YearBuilt\n",
              "18       ExterQual\n",
              "57     TotalBsmtSF\n",
              "53      MasVnrArea\n",
              "21        BsmtQual\n",
              "52    YearRemodAdd\n",
              "30     KitchenQual\n",
              "73      WoodDeckSF\n",
              "54      BsmtFinSF1\n",
              "64        FullBath\n",
              "48         LotArea\n",
              "59        2ndFlrSF\n",
              "32     FireplaceQu\n",
              "Name: cols, dtype: object"
            ]
          },
          "metadata": {},
          "execution_count": 20
        }
      ]
    },
    {
      "cell_type": "code",
      "metadata": {
        "id": "3Vg8MF22y5kT"
      },
      "source": [
        "model = rf(imp_xs,y)"
      ],
      "execution_count": 21,
      "outputs": []
    },
    {
      "cell_type": "code",
      "metadata": {
        "colab": {
          "base_uri": "https://localhost:8080/"
        },
        "id": "FbHAy7fVzFaW",
        "outputId": "bd13d30a-63fc-4ea5-f4aa-b38e9692f9ce"
      },
      "source": [
        "m_rmsle(model, imp_xs, y),m_rmsle(model,imp_v_xs,v_y)"
      ],
      "execution_count": 22,
      "outputs": [
        {
          "output_type": "execute_result",
          "data": {
            "text/plain": [
              "(0.173762, 0.185519)"
            ]
          },
          "metadata": {},
          "execution_count": 22
        }
      ]
    },
    {
      "cell_type": "markdown",
      "metadata": {
        "id": "ofvm6y6UpoUn"
      },
      "source": [
        "As we see above, our predictions have not changed much. This is cool because we have simplified our model with almost no loss of accuracy."
      ]
    },
    {
      "cell_type": "markdown",
      "metadata": {
        "id": "7L0l9TIh1LcW"
      },
      "source": [
        "## Removing redundant vars"
      ]
    },
    {
      "cell_type": "code",
      "metadata": {
        "colab": {
          "base_uri": "https://localhost:8080/",
          "height": 812
        },
        "id": "REFDYp5I1VwC",
        "outputId": "e39d4fc4-94bc-43cc-d574-6b9bc13d2498"
      },
      "source": [
        "cluster_columns(imp_xs, (25,14)) "
      ],
      "execution_count": 23,
      "outputs": [
        {
          "output_type": "display_data",
          "data": {
            "image/png": "[encoded data removed]",
            "text/plain": [
              "<Figure size 1800x1008 with 1 Axes>"
            ]
          },
          "metadata": {
            "needs_background": "light"
          }
        }
      ]
    },
    {
      "cell_type": "code",
      "metadata": {
        "colab": {
          "base_uri": "https://localhost:8080/"
        },
        "id": "L1bgpxgu4IDN",
        "outputId": "81751a2f-38f5-41ae-84a4-80063330cf45"
      },
      "source": [
        "def get_oob(df):\n",
        "    m = rf(df,y)\n",
        "    return m.oob_score_\n",
        "\n",
        "print('orig:', model.oob_score_)\n",
        "{\n",
        "    c:get_oob( imp_xs.drop(c,axis=1) ) for c in ('GarageArea','GarageCars','YearRemodAdd','YearBuilt','TotalBsmtSF','1stFlrSF', 'ExterQual','KitchenQual', 'GrLivArea','FullBath')\n",
        "}\n"
      ],
      "execution_count": 24,
      "outputs": [
        {
          "output_type": "stream",
          "name": "stdout",
          "text": [
            "orig: 0.7774087314662272\n"
          ]
        },
        {
          "output_type": "execute_result",
          "data": {
            "text/plain": [
              "{'1stFlrSF': 0.7757628942342303,\n",
              " 'ExterQual': 0.7715559405660961,\n",
              " 'FullBath': 0.7744628495340661,\n",
              " 'GarageArea': 0.7710336740892265,\n",
              " 'GarageCars': 0.7766904194280507,\n",
              " 'GrLivArea': 0.7428921594691329,\n",
              " 'KitchenQual': 0.7736554478453832,\n",
              " 'TotalBsmtSF': 0.7767145136062541,\n",
              " 'YearBuilt': 0.7781738596264636,\n",
              " 'YearRemodAdd': 0.7646536049992192}"
            ]
          },
          "metadata": {},
          "execution_count": 24
        }
      ]
    },
    {
      "cell_type": "markdown",
      "metadata": {
        "id": "ZI2Tx95TEx02"
      },
      "source": [
        "As we can see above, then we are removing `FullBath` and `GarageArea`, OOB score go up. That's well.\n",
        "Let's drop these columns and try our model.\n",
        "\n",
        "\n",
        "\n"
      ]
    },
    {
      "cell_type": "code",
      "metadata": {
        "id": "g_IO8BeZ9h7v"
      },
      "source": [
        "#dropping redundant vars\n",
        "fin_xs = imp_xs.drop(['FullBath', 'GarageArea'], 1)\n",
        "fin_v_xs = imp_v_xs.drop(['ExterQual', 'GarageArea'], 1)"
      ],
      "execution_count": 27,
      "outputs": []
    },
    {
      "cell_type": "code",
      "metadata": {
        "colab": {
          "base_uri": "https://localhost:8080/"
        },
        "id": "QdXZeO2rEk0E",
        "outputId": "1352a69c-17f2-4113-fb7c-0779268e84f0"
      },
      "source": [
        "model = rf(fin_xs,y)\n",
        "model.oob_score_"
      ],
      "execution_count": 28,
      "outputs": [
        {
          "output_type": "execute_result",
          "data": {
            "text/plain": [
              "0.7788590329500767"
            ]
          },
          "metadata": {},
          "execution_count": 28
        }
      ]
    },
    {
      "cell_type": "markdown",
      "metadata": {
        "id": "q_D3874fF6-B"
      },
      "source": [
        "It has hardly changed in comparison with the last test. This is good, because we have simplified the model without colossal performance losses"
      ]
    },
    {
      "cell_type": "markdown",
      "metadata": {
        "id": "GdMoNRNadztL"
      },
      "source": [
        "## Solving extrapolation problem\n"
      ]
    },
    {
      "cell_type": "markdown",
      "metadata": {
        "id": "SNtmJmcueDg0"
      },
      "source": [
        "Extrapolation problem is when ML algorithm can't extrapolate future data. i.e it can't work on out-of-domain data."
      ]
    },
    {
      "cell_type": "markdown",
      "metadata": {
        "id": "4T9DcOqLe7NJ"
      },
      "source": [
        "To find out if we have such a problem, we will create another RandomForest, which will determine from which data set the specific row is from. Then, we will get features importances..."
      ]
    },
    {
      "cell_type": "code",
      "metadata": {
        "id": "4CYYsZDhd-i6"
      },
      "source": [
        "#new dataset\n",
        "ds_super = pd.concat([fin_xs, fin_v_xs])\n",
        "is_valid = np.array([0]*len(fin_xs) + [1]*len(fin_v_xs))"
      ],
      "execution_count": 94,
      "outputs": []
    },
    {
      "cell_type": "code",
      "metadata": {
        "colab": {
          "base_uri": "https://localhost:8080/",
          "height": 0
        },
        "id": "p6f8ppGulppS",
        "outputId": "fe613841-2e6f-4763-f1c6-102020c3a4cf"
      },
      "source": [
        "m = rf(ds_super,is_valid)\n",
        "rf_feature_importance(m, ds_super)[:5]"
      ],
      "execution_count": 95,
      "outputs": [
        {
          "output_type": "execute_result",
          "data": {
            "text/html": [
              "<div>\n",
              "<style scoped>\n",
              "    .dataframe tbody tr th:only-of-type {\n",
              "        vertical-align: middle;\n",
              "    }\n",
              "\n",
              "    .dataframe tbody tr th {\n",
              "        vertical-align: top;\n",
              "    }\n",
              "\n",
              "    .dataframe thead th {\n",
              "        text-align: right;\n",
              "    }\n",
              "</style>\n",
              "<table border=\"1\" class=\"dataframe\">\n",
              "  <thead>\n",
              "    <tr style=\"text-align: right;\">\n",
              "      <th></th>\n",
              "      <th>cols</th>\n",
              "      <th>imp</th>\n",
              "    </tr>\n",
              "  </thead>\n",
              "  <tbody>\n",
              "    <tr>\n",
              "      <th>1</th>\n",
              "      <td>GrLivArea</td>\n",
              "      <td>0.123701</td>\n",
              "    </tr>\n",
              "    <tr>\n",
              "      <th>6</th>\n",
              "      <td>LotArea</td>\n",
              "      <td>0.123178</td>\n",
              "    </tr>\n",
              "    <tr>\n",
              "      <th>4</th>\n",
              "      <td>1stFlrSF</td>\n",
              "      <td>0.116718</td>\n",
              "    </tr>\n",
              "    <tr>\n",
              "      <th>8</th>\n",
              "      <td>GarageYrBlt</td>\n",
              "      <td>0.100891</td>\n",
              "    </tr>\n",
              "    <tr>\n",
              "      <th>5</th>\n",
              "      <td>BsmtFinSF1</td>\n",
              "      <td>0.095307</td>\n",
              "    </tr>\n",
              "  </tbody>\n",
              "</table>\n",
              "</div>"
            ],
            "text/plain": [
              "          cols       imp\n",
              "1    GrLivArea  0.123701\n",
              "6      LotArea  0.123178\n",
              "4     1stFlrSF  0.116718\n",
              "8  GarageYrBlt  0.100891\n",
              "5   BsmtFinSF1  0.095307"
            ]
          },
          "metadata": {},
          "execution_count": 95
        }
      ]
    },
    {
      "cell_type": "markdown",
      "metadata": {
        "id": "tmKfQjxImZOR"
      },
      "source": [
        "I don't see any point in deleting GrLivArea because it is an important factor in prediction, as we have seen before. And besides, the area of the plot is unlikely to change over time.\n",
        "But we will still try to remove all the columns from this list, in case something comes out of it."
      ]
    },
    {
      "cell_type": "code",
      "metadata": {
        "id": "s7MfjHkGmI36",
        "colab": {
          "base_uri": "https://localhost:8080/"
        },
        "outputId": "cf7f61f9-ac69-45e1-9e37-6aaaaf2c1b33"
      },
      "source": [
        "print('original:', m_rmsle(model,fin_v_xs,v_y) )\n",
        "\n",
        "for col in ('MoSold','GrLivArea','TotalBsmtSF','LotArea','1stFlrSF'):\n",
        "  m = rf(fin_xs.drop(col,1), y)\n",
        "  print(col, m_rmsle(m, fin_v_xs.drop(col,1),v_y) )"
      ],
      "execution_count": null,
      "outputs": [
        {
          "output_type": "stream",
          "name": "stdout",
          "text": [
            "original: 0.166801\n",
            "MoSold 0.172804\n",
            "GrLivArea 0.170345\n",
            "TotalBsmtSF 0.170975\n",
            "LotArea 0.17039\n",
            "1stFlrSF 0.167873\n"
          ]
        }
      ]
    },
    {
      "cell_type": "markdown",
      "metadata": {
        "id": "yigbFl58oBtU"
      },
      "source": [
        "Yeah, as I suggested. We did not get a large increase in the accuracy of the model. In the first 4 columns, we got an even worse result.\n"
      ]
    },
    {
      "cell_type": "code",
      "metadata": {
        "id": "bf5xoUNGUD7e"
      },
      "source": [
        "fin_xs = fin_xs.drop('1stFlrSF',1)\n",
        "fin_v_xs = fin_v_xs.drop('1stFlrSF',1)"
      ],
      "execution_count": null,
      "outputs": []
    },
    {
      "cell_type": "code",
      "metadata": {
        "colab": {
          "base_uri": "https://localhost:8080/"
        },
        "id": "kYOv87JXp0Nr",
        "outputId": "8ed753de-3b84-4996-a880-63fd3394de33"
      },
      "source": [
        "\n",
        "model = rf(fin_xs,y)\n",
        "m_rmsle(model, fin_v_xs,v_y)"
      ],
      "execution_count": null,
      "outputs": [
        {
          "output_type": "execute_result",
          "data": {
            "text/plain": [
              "0.170029"
            ]
          },
          "metadata": {},
          "execution_count": 33
        }
      ]
    },
    {
      "cell_type": "markdown",
      "metadata": {
        "id": "JvcGQeQPq5Wh"
      },
      "source": [
        "We will not check the RMSLE, since we did it above. \n",
        "This way we have simplified the model even more."
      ]
    },
    {
      "cell_type": "markdown",
      "metadata": {
        "id": "kRPk70lbwE0H"
      },
      "source": [
        "## Kaggle test"
      ]
    },
    {
      "cell_type": "code",
      "metadata": {
        "colab": {
          "base_uri": "https://localhost:8080/"
        },
        "id": "DbU5gHjKwM0E",
        "outputId": "9453e75f-4a44-4e0c-fefb-38a91da280ae"
      },
      "source": [
        "test_df = pd.read_csv('/content/drive/MyDrive/Datasets/house price/test.csv')\n",
        "test_df = test_df[list(fin_xs.columns)]\n",
        "cont, cat = cont_cat_split(test_df)\n",
        "cont"
      ],
      "execution_count": 113,
      "outputs": [
        {
          "output_type": "execute_result",
          "data": {
            "text/plain": [
              "['GrLivArea',\n",
              " 'GarageCars',\n",
              " 'YearBuilt',\n",
              " '1stFlrSF',\n",
              " 'BsmtFinSF1',\n",
              " 'LotArea',\n",
              " 'GarageYrBlt',\n",
              " '2ndFlrSF',\n",
              " 'OpenPorchSF',\n",
              " 'YearRemodAdd',\n",
              " 'WoodDeckSF']"
            ]
          },
          "metadata": {},
          "execution_count": 113
        }
      ]
    },
    {
      "cell_type": "code",
      "metadata": {
        "id": "qOxnXjfMwq1q"
      },
      "source": [
        "test_to = TabularPandas(test_df, procs,cat,cont)\n",
        "X = test_to.train.xs.drop(['GarageYrBlt_na','BsmtFinSF1_na','GarageCars_na'],1)"
      ],
      "execution_count": 118,
      "outputs": []
    },
    {
      "cell_type": "code",
      "metadata": {
        "id": "V4KhW-WFxV7W"
      },
      "source": [
        "test_ds = X.dataloaders(65)"
      ],
      "execution_count": 107,
      "outputs": []
    },
    {
      "cell_type": "code",
      "metadata": {
        "id": "EJD80zNCxhwE"
      },
      "source": [
        "preds = model.predict(X)"
      ],
      "execution_count": 120,
      "outputs": []
    },
    {
      "cell_type": "code",
      "metadata": {
        "colab": {
          "base_uri": "https://localhost:8080/",
          "height": 0
        },
        "id": "aOXqOgBgzL-u",
        "outputId": "173f9661-00be-4772-b3b9-24d1e1d8eaf3"
      },
      "source": [
        "preds_fn = {'SalePrice':preds}\n",
        "test_df_end = pd.DataFrame(data=preds_fn, index=pd.Index(range(1461,2920)))\n",
        "test_df_end"
      ],
      "execution_count": 123,
      "outputs": [
        {
          "output_type": "execute_result",
          "data": {
            "text/html": [
              "<div>\n",
              "<style scoped>\n",
              "    .dataframe tbody tr th:only-of-type {\n",
              "        vertical-align: middle;\n",
              "    }\n",
              "\n",
              "    .dataframe tbody tr th {\n",
              "        vertical-align: top;\n",
              "    }\n",
              "\n",
              "    .dataframe thead th {\n",
              "        text-align: right;\n",
              "    }\n",
              "</style>\n",
              "<table border=\"1\" class=\"dataframe\">\n",
              "  <thead>\n",
              "    <tr style=\"text-align: right;\">\n",
              "      <th></th>\n",
              "      <th>SalePrice</th>\n",
              "    </tr>\n",
              "  </thead>\n",
              "  <tbody>\n",
              "    <tr>\n",
              "      <th>1461</th>\n",
              "      <td>130001.617679</td>\n",
              "    </tr>\n",
              "    <tr>\n",
              "      <th>1462</th>\n",
              "      <td>147506.985635</td>\n",
              "    </tr>\n",
              "    <tr>\n",
              "      <th>1463</th>\n",
              "      <td>165721.829355</td>\n",
              "    </tr>\n",
              "    <tr>\n",
              "      <th>1464</th>\n",
              "      <td>169857.936498</td>\n",
              "    </tr>\n",
              "    <tr>\n",
              "      <th>1465</th>\n",
              "      <td>190045.265179</td>\n",
              "    </tr>\n",
              "    <tr>\n",
              "      <th>...</th>\n",
              "      <td>...</td>\n",
              "    </tr>\n",
              "    <tr>\n",
              "      <th>2915</th>\n",
              "      <td>132222.288829</td>\n",
              "    </tr>\n",
              "    <tr>\n",
              "      <th>2916</th>\n",
              "      <td>134019.178710</td>\n",
              "    </tr>\n",
              "    <tr>\n",
              "      <th>2917</th>\n",
              "      <td>143073.486825</td>\n",
              "    </tr>\n",
              "    <tr>\n",
              "      <th>2918</th>\n",
              "      <td>136547.914504</td>\n",
              "    </tr>\n",
              "    <tr>\n",
              "      <th>2919</th>\n",
              "      <td>198998.140853</td>\n",
              "    </tr>\n",
              "  </tbody>\n",
              "</table>\n",
              "<p>1459 rows × 1 columns</p>\n",
              "</div>"
            ],
            "text/plain": [
              "          SalePrice\n",
              "1461  130001.617679\n",
              "1462  147506.985635\n",
              "1463  165721.829355\n",
              "1464  169857.936498\n",
              "1465  190045.265179\n",
              "...             ...\n",
              "2915  132222.288829\n",
              "2916  134019.178710\n",
              "2917  143073.486825\n",
              "2918  136547.914504\n",
              "2919  198998.140853\n",
              "\n",
              "[1459 rows x 1 columns]"
            ]
          },
          "metadata": {},
          "execution_count": 123
        }
      ]
    },
    {
      "cell_type": "code",
      "metadata": {
        "id": "cJ_5uVMEzkSU"
      },
      "source": [
        "with open('/content/drive/MyDrive/Datasets/house price/submit_rf.csv','w') as f:\n",
        "  test_df_end.to_csv(f, index=True, index_label='Id')"
      ],
      "execution_count": 124,
      "outputs": []
    },
    {
      "cell_type": "markdown",
      "metadata": {
        "id": "zBFkuGhu0Sb9"
      },
      "source": [
        "![Screenshot_1.png](data:image/png;base64,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)"
      ]
    },
    {
      "cell_type": "markdown",
      "metadata": {
        "id": "VZHqMt6i0Xqn"
      },
      "source": [
        "Score on the kaggle competition is 0.29. Not bad :^)"
      ]
    },
    {
      "cell_type": "markdown",
      "metadata": {
        "id": "2u4okZm0uEW0"
      },
      "source": [
        "# Neural Network implementation"
      ]
    },
    {
      "cell_type": "markdown",
      "metadata": {
        "id": "vzBFr5w2vejn"
      },
      "source": [
        "Do the same preprocessing of data as before."
      ]
    },
    {
      "cell_type": "code",
      "metadata": {
        "id": "Pp_kGPc8uIoH",
        "colab": {
          "base_uri": "https://localhost:8080/"
        },
        "outputId": "5ab95c53-d075-471d-dddc-cc474a4cb4e9"
      },
      "source": [
        "df_nn = pd.read_csv('/content/drive/MyDrive/Datasets/house price/train.csv')\n",
        "df_nn[dep_var] = df_nn[dep_var]*1.0 # cast to float\n",
        "procs = [Categorify, FillMissing(add_col=False)] # disable adding columns, so that there are no errors\n",
        "fin_df_nn = df_nn[list(fin_xs.columns) + [dep_var]] # using the same variables as in RF model\n",
        "cont_nn, cat_nn = cont_cat_split(fin_df_nn,1,dep_var=dep_var)\n",
        "print(fin_df_nn.columns.shape) # number of columns"
      ],
      "execution_count": 62,
      "outputs": [
        {
          "output_type": "stream",
          "name": "stdout",
          "text": [
            "(17,)\n"
          ]
        }
      ]
    },
    {
      "cell_type": "code",
      "metadata": {
        "colab": {
          "base_uri": "https://localhost:8080/"
        },
        "id": "GBqXHYOzWC_Y",
        "outputId": "957d7883-7e1e-440d-ef59-178df3cd5d12"
      },
      "source": [
        "fin_df_nn[cat_nn].nunique() # number of unique values in each cat_nn column"
      ],
      "execution_count": 63,
      "outputs": [
        {
          "output_type": "execute_result",
          "data": {
            "text/plain": [
              "ExterQual      4\n",
              "BsmtQual       4\n",
              "KitchenQual    4\n",
              "FireplaceQu    5\n",
              "dtype: int64"
            ]
          },
          "metadata": {},
          "execution_count": 63
        }
      ]
    },
    {
      "cell_type": "code",
      "metadata": {
        "id": "fks1gf1dbOKI",
        "colab": {
          "base_uri": "https://localhost:8080/"
        },
        "outputId": "b95694c5-07e9-4fb2-91a9-a77f90df3fcc"
      },
      "source": [
        "to_nn = TabularPandas(fin_df_nn, procs, cat_nn, cont_nn, dep_var, splits=RandomSplitter(seed=777)(range_of(fin_df_nn)),)\n",
        "dls = to_nn.dataloaders(64)\n",
        "dls.train.xs.columns\n"
      ],
      "execution_count": 64,
      "outputs": [
        {
          "output_type": "execute_result",
          "data": {
            "text/plain": [
              "Index(['ExterQual', 'BsmtQual', 'KitchenQual', 'FireplaceQu', 'OverallQual',\n",
              "       'GrLivArea', 'GarageCars', '1stFlrSF', 'YearBuilt', 'TotalBsmtSF',\n",
              "       'MasVnrArea', 'YearRemodAdd', 'WoodDeckSF', 'BsmtFinSF1', 'LotArea',\n",
              "       '2ndFlrSF'],\n",
              "      dtype='object')"
            ]
          },
          "metadata": {},
          "execution_count": 64
        }
      ]
    },
    {
      "cell_type": "markdown",
      "metadata": {
        "id": "txXW8qGLFAbb"
      },
      "source": [
        "The best practice is define range of the dependent variable when using a regression model. Let's do this!"
      ]
    },
    {
      "cell_type": "code",
      "metadata": {
        "colab": {
          "base_uri": "https://localhost:8080/"
        },
        "id": "dr5fSYpkcqdU",
        "outputId": "40ef9dd2-841b-4410-d97f-dfc1cc708bed"
      },
      "source": [
        "to_nn.y.min(), to_nn.y.max()"
      ],
      "execution_count": 59,
      "outputs": [
        {
          "output_type": "execute_result",
          "data": {
            "text/plain": [
              "(34900.0, 755000.0)"
            ]
          },
          "metadata": {},
          "execution_count": 59
        }
      ]
    },
    {
      "cell_type": "code",
      "metadata": {
        "id": "qrsweU1QdP1Z"
      },
      "source": [
        "learn = tabular_learner(dls, y_range=[34900.0, 755000.0], n_out=1, loss_func=F.mse_loss)"
      ],
      "execution_count": 65,
      "outputs": []
    },
    {
      "cell_type": "code",
      "metadata": {
        "colab": {
          "base_uri": "https://localhost:8080/",
          "height": 319
        },
        "id": "GxEaSoRPdcKa",
        "outputId": "af02fde9-6ed5-40da-fb13-044d1015e98f"
      },
      "source": [
        "learn.lr_find()"
      ],
      "execution_count": 66,
      "outputs": [
        {
          "output_type": "display_data",
          "data": {
            "text/html": [
              ""
            ],
            "text/plain": [
              "<IPython.core.display.HTML object>"
            ]
          },
          "metadata": {}
        },
        {
          "output_type": "execute_result",
          "data": {
            "text/plain": [
              "SuggestedLRs(valley=0.009120108559727669)"
            ]
          },
          "metadata": {},
          "execution_count": 66
        },
        {
          "output_type": "display_data",
          "data": {
            "image/png": "[encoded data removed]",
            "text/plain": [
              "<Figure size 432x288 with 1 Axes>"
            ]
          },
          "metadata": {
            "needs_background": "light"
          }
        }
      ]
    },
    {
      "cell_type": "code",
      "metadata": {
        "colab": {
          "base_uri": "https://localhost:8080/",
          "height": 1000
        },
        "id": "6kVI2PBgd0Rq",
        "outputId": "7c5e3b36-9e0a-4f8a-a7f1-6b56f7a32c5f"
      },
      "source": [
        "learn.fit_one_cycle(100,0.009)"
      ],
      "execution_count": 67,
      "outputs": [
        {
          "output_type": "display_data",
          "data": {
            "text/html": [
              "<table border=\"1\" class=\"dataframe\">\n",
              "  <thead>\n",
              "    <tr style=\"text-align: left;\">\n",
              "      <th>epoch</th>\n",
              "      <th>train_loss</th>\n",
              "      <th>valid_loss</th>\n",
              "      <th>time</th>\n",
              "    </tr>\n",
              "  </thead>\n",
              "  <tbody>\n",
              "    <tr>\n",
              "      <td>0</td>\n",
              "      <td>53760991232.000000</td>\n",
              "      <td>314214350848.000000</td>\n",
              "      <td>00:00</td>\n",
              "    </tr>\n",
              "    <tr>\n",
              "      <td>1</td>\n",
              "      <td>48795107328.000000</td>\n",
              "      <td>81721417728.000000</td>\n",
              "      <td>00:00</td>\n",
              "    </tr>\n",
              "    <tr>\n",
              "      <td>2</td>\n",
              "      <td>44105093120.000000</td>\n",
              "      <td>37008752640.000000</td>\n",
              "      <td>00:00</td>\n",
              "    </tr>\n",
              "    <tr>\n",
              "      <td>3</td>\n",
              "      <td>40341172224.000000</td>\n",
              "      <td>26765922304.000000</td>\n",
              "      <td>00:00</td>\n",
              "    </tr>\n",
              "    <tr>\n",
              "      <td>4</td>\n",
              "      <td>35790983168.000000</td>\n",
              "      <td>20893730816.000000</td>\n",
              "      <td>00:00</td>\n",
              "    </tr>\n",
              "    <tr>\n",
              "      <td>5</td>\n",
              "      <td>30883917824.000000</td>\n",
              "      <td>17797263360.000000</td>\n",
              "      <td>00:00</td>\n",
              "    </tr>\n",
              "    <tr>\n",
              "      <td>6</td>\n",
              "      <td>26550464512.000000</td>\n",
              "      <td>12908413952.000000</td>\n",
              "      <td>00:00</td>\n",
              "    </tr>\n",
              "    <tr>\n",
              "      <td>7</td>\n",
              "      <td>22328313856.000000</td>\n",
              "      <td>10070633472.000000</td>\n",
              "      <td>00:00</td>\n",
              "    </tr>\n",
              "    <tr>\n",
              "      <td>8</td>\n",
              "      <td>17601298432.000000</td>\n",
              "      <td>11842681856.000000</td>\n",
              "      <td>00:00</td>\n",
              "    </tr>\n",
              "    <tr>\n",
              "      <td>9</td>\n",
              "      <td>13150548992.000000</td>\n",
              "      <td>3137933568.000000</td>\n",
              "      <td>00:00</td>\n",
              "    </tr>\n",
              "    <tr>\n",
              "      <td>10</td>\n",
              "      <td>9694715904.000000</td>\n",
              "      <td>2182510848.000000</td>\n",
              "      <td>00:00</td>\n",
              "    </tr>\n",
              "    <tr>\n",
              "      <td>11</td>\n",
              "      <td>7179002880.000000</td>\n",
              "      <td>2277293312.000000</td>\n",
              "      <td>00:00</td>\n",
              "    </tr>\n",
              "    <tr>\n",
              "      <td>12</td>\n",
              "      <td>5359718400.000000</td>\n",
              "      <td>1941642496.000000</td>\n",
              "      <td>00:00</td>\n",
              "    </tr>\n",
              "    <tr>\n",
              "      <td>13</td>\n",
              "      <td>4216029184.000000</td>\n",
              "      <td>1948273920.000000</td>\n",
              "      <td>00:00</td>\n",
              "    </tr>\n",
              "    <tr>\n",
              "      <td>14</td>\n",
              "      <td>3346147328.000000</td>\n",
              "      <td>2269494528.000000</td>\n",
              "      <td>00:00</td>\n",
              "    </tr>\n",
              "    <tr>\n",
              "      <td>15</td>\n",
              "      <td>2857657600.000000</td>\n",
              "      <td>1755410048.000000</td>\n",
              "      <td>00:00</td>\n",
              "    </tr>\n",
              "    <tr>\n",
              "      <td>16</td>\n",
              "      <td>2373632512.000000</td>\n",
              "      <td>1867763712.000000</td>\n",
              "      <td>00:00</td>\n",
              "    </tr>\n",
              "    <tr>\n",
              "      <td>17</td>\n",
              "      <td>1955521920.000000</td>\n",
              "      <td>1852512128.000000</td>\n",
              "      <td>00:00</td>\n",
              "    </tr>\n",
              "    <tr>\n",
              "      <td>18</td>\n",
              "      <td>1704008832.000000</td>\n",
              "      <td>1901290880.000000</td>\n",
              "      <td>00:00</td>\n",
              "    </tr>\n",
              "    <tr>\n",
              "      <td>19</td>\n",
              "      <td>1515655936.000000</td>\n",
              "      <td>2160444928.000000</td>\n",
              "      <td>00:00</td>\n",
              "    </tr>\n",
              "    <tr>\n",
              "      <td>20</td>\n",
              "      <td>1430106624.000000</td>\n",
              "      <td>1783144704.000000</td>\n",
              "      <td>00:00</td>\n",
              "    </tr>\n",
              "    <tr>\n",
              "      <td>21</td>\n",
              "      <td>1389459072.000000</td>\n",
              "      <td>2244771584.000000</td>\n",
              "      <td>00:00</td>\n",
              "    </tr>\n",
              "    <tr>\n",
              "      <td>22</td>\n",
              "      <td>1234682240.000000</td>\n",
              "      <td>1633462144.000000</td>\n",
              "      <td>00:00</td>\n",
              "    </tr>\n",
              "    <tr>\n",
              "      <td>23</td>\n",
              "      <td>1262372736.000000</td>\n",
              "      <td>2083375360.000000</td>\n",
              "      <td>00:00</td>\n",
              "    </tr>\n",
              "    <tr>\n",
              "      <td>24</td>\n",
              "      <td>1218483200.000000</td>\n",
              "      <td>1692147456.000000</td>\n",
              "      <td>00:00</td>\n",
              "    </tr>\n",
              "    <tr>\n",
              "      <td>25</td>\n",
              "      <td>1084484352.000000</td>\n",
              "      <td>1812432896.000000</td>\n",
              "      <td>00:00</td>\n",
              "    </tr>\n",
              "    <tr>\n",
              "      <td>26</td>\n",
              "      <td>1044906176.000000</td>\n",
              "      <td>2427069184.000000</td>\n",
              "      <td>00:00</td>\n",
              "    </tr>\n",
              "    <tr>\n",
              "      <td>27</td>\n",
              "      <td>1068619520.000000</td>\n",
              "      <td>2101212544.000000</td>\n",
              "      <td>00:00</td>\n",
              "    </tr>\n",
              "    <tr>\n",
              "      <td>28</td>\n",
              "      <td>1060510528.000000</td>\n",
              "      <td>2527611648.000000</td>\n",
              "      <td>00:00</td>\n",
              "    </tr>\n",
              "    <tr>\n",
              "      <td>29</td>\n",
              "      <td>1013771200.000000</td>\n",
              "      <td>1683350016.000000</td>\n",
              "      <td>00:00</td>\n",
              "    </tr>\n",
              "    <tr>\n",
              "      <td>30</td>\n",
              "      <td>990073408.000000</td>\n",
              "      <td>1790915584.000000</td>\n",
              "      <td>00:00</td>\n",
              "    </tr>\n",
              "    <tr>\n",
              "      <td>31</td>\n",
              "      <td>1005835712.000000</td>\n",
              "      <td>1426086144.000000</td>\n",
              "      <td>00:00</td>\n",
              "    </tr>\n",
              "    <tr>\n",
              "      <td>32</td>\n",
              "      <td>1018786752.000000</td>\n",
              "      <td>3001069056.000000</td>\n",
              "      <td>00:00</td>\n",
              "    </tr>\n",
              "    <tr>\n",
              "      <td>33</td>\n",
              "      <td>1004338944.000000</td>\n",
              "      <td>2006810880.000000</td>\n",
              "      <td>00:00</td>\n",
              "    </tr>\n",
              "    <tr>\n",
              "      <td>34</td>\n",
              "      <td>962155008.000000</td>\n",
              "      <td>1817022976.000000</td>\n",
              "      <td>00:00</td>\n",
              "    </tr>\n",
              "    <tr>\n",
              "      <td>35</td>\n",
              "      <td>867347008.000000</td>\n",
              "      <td>1938155392.000000</td>\n",
              "      <td>00:00</td>\n",
              "    </tr>\n",
              "    <tr>\n",
              "      <td>36</td>\n",
              "      <td>928061632.000000</td>\n",
              "      <td>2530540544.000000</td>\n",
              "      <td>00:00</td>\n",
              "    </tr>\n",
              "    <tr>\n",
              "      <td>37</td>\n",
              "      <td>923860416.000000</td>\n",
              "      <td>2352936192.000000</td>\n",
              "      <td>00:00</td>\n",
              "    </tr>\n",
              "    <tr>\n",
              "      <td>38</td>\n",
              "      <td>975615488.000000</td>\n",
              "      <td>2232646912.000000</td>\n",
              "      <td>00:00</td>\n",
              "    </tr>\n",
              "    <tr>\n",
              "      <td>39</td>\n",
              "      <td>955543680.000000</td>\n",
              "      <td>2042618240.000000</td>\n",
              "      <td>00:00</td>\n",
              "    </tr>\n",
              "    <tr>\n",
              "      <td>40</td>\n",
              "      <td>904360384.000000</td>\n",
              "      <td>2075752064.000000</td>\n",
              "      <td>00:00</td>\n",
              "    </tr>\n",
              "    <tr>\n",
              "      <td>41</td>\n",
              "      <td>850934656.000000</td>\n",
              "      <td>2413296128.000000</td>\n",
              "      <td>00:00</td>\n",
              "    </tr>\n",
              "    <tr>\n",
              "      <td>42</td>\n",
              "      <td>843353664.000000</td>\n",
              "      <td>1890020096.000000</td>\n",
              "      <td>00:00</td>\n",
              "    </tr>\n",
              "    <tr>\n",
              "      <td>43</td>\n",
              "      <td>880524288.000000</td>\n",
              "      <td>1757958784.000000</td>\n",
              "      <td>00:00</td>\n",
              "    </tr>\n",
              "    <tr>\n",
              "      <td>44</td>\n",
              "      <td>843170240.000000</td>\n",
              "      <td>1574343040.000000</td>\n",
              "      <td>00:00</td>\n",
              "    </tr>\n",
              "    <tr>\n",
              "      <td>45</td>\n",
              "      <td>769375488.000000</td>\n",
              "      <td>1915520768.000000</td>\n",
              "      <td>00:00</td>\n",
              "    </tr>\n",
              "    <tr>\n",
              "      <td>46</td>\n",
              "      <td>759930368.000000</td>\n",
              "      <td>1903180928.000000</td>\n",
              "      <td>00:00</td>\n",
              "    </tr>\n",
              "    <tr>\n",
              "      <td>47</td>\n",
              "      <td>702271808.000000</td>\n",
              "      <td>2146229888.000000</td>\n",
              "      <td>00:00</td>\n",
              "    </tr>\n",
              "    <tr>\n",
              "      <td>48</td>\n",
              "      <td>732201472.000000</td>\n",
              "      <td>1573881728.000000</td>\n",
              "      <td>00:00</td>\n",
              "    </tr>\n",
              "    <tr>\n",
              "      <td>49</td>\n",
              "      <td>672907904.000000</td>\n",
              "      <td>2079524224.000000</td>\n",
              "      <td>00:00</td>\n",
              "    </tr>\n",
              "    <tr>\n",
              "      <td>50</td>\n",
              "      <td>653442496.000000</td>\n",
              "      <td>1961280640.000000</td>\n",
              "      <td>00:00</td>\n",
              "    </tr>\n",
              "    <tr>\n",
              "      <td>51</td>\n",
              "      <td>626173568.000000</td>\n",
              "      <td>1573149824.000000</td>\n",
              "      <td>00:00</td>\n",
              "    </tr>\n",
              "    <tr>\n",
              "      <td>52</td>\n",
              "      <td>569134848.000000</td>\n",
              "      <td>1537048064.000000</td>\n",
              "      <td>00:00</td>\n",
              "    </tr>\n",
              "    <tr>\n",
              "      <td>53</td>\n",
              "      <td>561792512.000000</td>\n",
              "      <td>1882661248.000000</td>\n",
              "      <td>00:00</td>\n",
              "    </tr>\n",
              "    <tr>\n",
              "      <td>54</td>\n",
              "      <td>566015232.000000</td>\n",
              "      <td>1713049728.000000</td>\n",
              "      <td>00:00</td>\n",
              "    </tr>\n",
              "    <tr>\n",
              "      <td>55</td>\n",
              "      <td>618803840.000000</td>\n",
              "      <td>2124452224.000000</td>\n",
              "      <td>00:00</td>\n",
              "    </tr>\n",
              "    <tr>\n",
              "      <td>56</td>\n",
              "      <td>600980096.000000</td>\n",
              "      <td>1829955840.000000</td>\n",
              "      <td>00:00</td>\n",
              "    </tr>\n",
              "    <tr>\n",
              "      <td>57</td>\n",
              "      <td>646368064.000000</td>\n",
              "      <td>1792950016.000000</td>\n",
              "      <td>00:00</td>\n",
              "    </tr>\n",
              "    <tr>\n",
              "      <td>58</td>\n",
              "      <td>627361024.000000</td>\n",
              "      <td>1700791040.000000</td>\n",
              "      <td>00:00</td>\n",
              "    </tr>\n",
              "    <tr>\n",
              "      <td>59</td>\n",
              "      <td>590615744.000000</td>\n",
              "      <td>1629730944.000000</td>\n",
              "      <td>00:00</td>\n",
              "    </tr>\n",
              "    <tr>\n",
              "      <td>60</td>\n",
              "      <td>565541504.000000</td>\n",
              "      <td>1400315520.000000</td>\n",
              "      <td>00:00</td>\n",
              "    </tr>\n",
              "    <tr>\n",
              "      <td>61</td>\n",
              "      <td>538923008.000000</td>\n",
              "      <td>1230173056.000000</td>\n",
              "      <td>00:00</td>\n",
              "    </tr>\n",
              "    <tr>\n",
              "      <td>62</td>\n",
              "      <td>499449216.000000</td>\n",
              "      <td>1354133248.000000</td>\n",
              "      <td>00:00</td>\n",
              "    </tr>\n",
              "    <tr>\n",
              "      <td>63</td>\n",
              "      <td>472620320.000000</td>\n",
              "      <td>1251814784.000000</td>\n",
              "      <td>00:00</td>\n",
              "    </tr>\n",
              "    <tr>\n",
              "      <td>64</td>\n",
              "      <td>466775552.000000</td>\n",
              "      <td>1224672640.000000</td>\n",
              "      <td>00:00</td>\n",
              "    </tr>\n",
              "    <tr>\n",
              "      <td>65</td>\n",
              "      <td>458357504.000000</td>\n",
              "      <td>1707008512.000000</td>\n",
              "      <td>00:00</td>\n",
              "    </tr>\n",
              "    <tr>\n",
              "      <td>66</td>\n",
              "      <td>430352544.000000</td>\n",
              "      <td>1554254848.000000</td>\n",
              "      <td>00:00</td>\n",
              "    </tr>\n",
              "    <tr>\n",
              "      <td>67</td>\n",
              "      <td>406243168.000000</td>\n",
              "      <td>1226047616.000000</td>\n",
              "      <td>00:00</td>\n",
              "    </tr>\n",
              "    <tr>\n",
              "      <td>68</td>\n",
              "      <td>445308896.000000</td>\n",
              "      <td>1351677184.000000</td>\n",
              "      <td>00:00</td>\n",
              "    </tr>\n",
              "    <tr>\n",
              "      <td>69</td>\n",
              "      <td>454077408.000000</td>\n",
              "      <td>1252620032.000000</td>\n",
              "      <td>00:00</td>\n",
              "    </tr>\n",
              "    <tr>\n",
              "      <td>70</td>\n",
              "      <td>422150624.000000</td>\n",
              "      <td>1526780800.000000</td>\n",
              "      <td>00:00</td>\n",
              "    </tr>\n",
              "    <tr>\n",
              "      <td>71</td>\n",
              "      <td>398836448.000000</td>\n",
              "      <td>1271045888.000000</td>\n",
              "      <td>00:00</td>\n",
              "    </tr>\n",
              "    <tr>\n",
              "      <td>72</td>\n",
              "      <td>411588864.000000</td>\n",
              "      <td>1287686528.000000</td>\n",
              "      <td>00:00</td>\n",
              "    </tr>\n",
              "    <tr>\n",
              "      <td>73</td>\n",
              "      <td>386117024.000000</td>\n",
              "      <td>1412896896.000000</td>\n",
              "      <td>00:00</td>\n",
              "    </tr>\n",
              "    <tr>\n",
              "      <td>74</td>\n",
              "      <td>395551680.000000</td>\n",
              "      <td>1490566656.000000</td>\n",
              "      <td>00:00</td>\n",
              "    </tr>\n",
              "    <tr>\n",
              "      <td>75</td>\n",
              "      <td>399867072.000000</td>\n",
              "      <td>1194038656.000000</td>\n",
              "      <td>00:00</td>\n",
              "    </tr>\n",
              "    <tr>\n",
              "      <td>76</td>\n",
              "      <td>384017664.000000</td>\n",
              "      <td>1433224448.000000</td>\n",
              "      <td>00:00</td>\n",
              "    </tr>\n",
              "    <tr>\n",
              "      <td>77</td>\n",
              "      <td>364365280.000000</td>\n",
              "      <td>1563212032.000000</td>\n",
              "      <td>00:00</td>\n",
              "    </tr>\n",
              "    <tr>\n",
              "      <td>78</td>\n",
              "      <td>373538176.000000</td>\n",
              "      <td>1258631680.000000</td>\n",
              "      <td>00:00</td>\n",
              "    </tr>\n",
              "    <tr>\n",
              "      <td>79</td>\n",
              "      <td>337320480.000000</td>\n",
              "      <td>1253053312.000000</td>\n",
              "      <td>00:00</td>\n",
              "    </tr>\n",
              "    <tr>\n",
              "      <td>80</td>\n",
              "      <td>331204448.000000</td>\n",
              "      <td>1375280384.000000</td>\n",
              "      <td>00:00</td>\n",
              "    </tr>\n",
              "    <tr>\n",
              "      <td>81</td>\n",
              "      <td>330219136.000000</td>\n",
              "      <td>1403152896.000000</td>\n",
              "      <td>00:00</td>\n",
              "    </tr>\n",
              "    <tr>\n",
              "      <td>82</td>\n",
              "      <td>314918048.000000</td>\n",
              "      <td>1257242880.000000</td>\n",
              "      <td>00:00</td>\n",
              "    </tr>\n",
              "    <tr>\n",
              "      <td>83</td>\n",
              "      <td>290593024.000000</td>\n",
              "      <td>1181978240.000000</td>\n",
              "      <td>00:00</td>\n",
              "    </tr>\n",
              "    <tr>\n",
              "      <td>84</td>\n",
              "      <td>276484384.000000</td>\n",
              "      <td>1274205312.000000</td>\n",
              "      <td>00:00</td>\n",
              "    </tr>\n",
              "    <tr>\n",
              "      <td>85</td>\n",
              "      <td>276150752.000000</td>\n",
              "      <td>1385197952.000000</td>\n",
              "      <td>00:00</td>\n",
              "    </tr>\n",
              "    <tr>\n",
              "      <td>86</td>\n",
              "      <td>280285984.000000</td>\n",
              "      <td>1348750464.000000</td>\n",
              "      <td>00:00</td>\n",
              "    </tr>\n",
              "    <tr>\n",
              "      <td>87</td>\n",
              "      <td>284336480.000000</td>\n",
              "      <td>1265878656.000000</td>\n",
              "      <td>00:00</td>\n",
              "    </tr>\n",
              "    <tr>\n",
              "      <td>88</td>\n",
              "      <td>272778112.000000</td>\n",
              "      <td>1374729984.000000</td>\n",
              "      <td>00:00</td>\n",
              "    </tr>\n",
              "    <tr>\n",
              "      <td>89</td>\n",
              "      <td>257228976.000000</td>\n",
              "      <td>1270113536.000000</td>\n",
              "      <td>00:00</td>\n",
              "    </tr>\n",
              "    <tr>\n",
              "      <td>90</td>\n",
              "      <td>257123824.000000</td>\n",
              "      <td>1268652800.000000</td>\n",
              "      <td>00:00</td>\n",
              "    </tr>\n",
              "    <tr>\n",
              "      <td>91</td>\n",
              "      <td>249800656.000000</td>\n",
              "      <td>1318495488.000000</td>\n",
              "      <td>00:00</td>\n",
              "    </tr>\n",
              "    <tr>\n",
              "      <td>92</td>\n",
              "      <td>242499728.000000</td>\n",
              "      <td>1275245056.000000</td>\n",
              "      <td>00:00</td>\n",
              "    </tr>\n",
              "    <tr>\n",
              "      <td>93</td>\n",
              "      <td>243897840.000000</td>\n",
              "      <td>1309583744.000000</td>\n",
              "      <td>00:00</td>\n",
              "    </tr>\n",
              "    <tr>\n",
              "      <td>94</td>\n",
              "      <td>255479280.000000</td>\n",
              "      <td>1424003712.000000</td>\n",
              "      <td>00:00</td>\n",
              "    </tr>\n",
              "    <tr>\n",
              "      <td>95</td>\n",
              "      <td>247847616.000000</td>\n",
              "      <td>1289807616.000000</td>\n",
              "      <td>00:00</td>\n",
              "    </tr>\n",
              "    <tr>\n",
              "      <td>96</td>\n",
              "      <td>241792512.000000</td>\n",
              "      <td>1382134656.000000</td>\n",
              "      <td>00:00</td>\n",
              "    </tr>\n",
              "    <tr>\n",
              "      <td>97</td>\n",
              "      <td>238128304.000000</td>\n",
              "      <td>1346939648.000000</td>\n",
              "      <td>00:00</td>\n",
              "    </tr>\n",
              "    <tr>\n",
              "      <td>98</td>\n",
              "      <td>241209408.000000</td>\n",
              "      <td>1242527744.000000</td>\n",
              "      <td>00:00</td>\n",
              "    </tr>\n",
              "    <tr>\n",
              "      <td>99</td>\n",
              "      <td>244074032.000000</td>\n",
              "      <td>1282196736.000000</td>\n",
              "      <td>00:00</td>\n",
              "    </tr>\n",
              "  </tbody>\n",
              "</table>"
            ],
            "text/plain": [
              "<IPython.core.display.HTML object>"
            ]
          },
          "metadata": {}
        }
      ]
    },
    {
      "cell_type": "code",
      "metadata": {
        "colab": {
          "base_uri": "https://localhost:8080/",
          "height": 187
        },
        "id": "PgPydQWCgkvE",
        "outputId": "2ebfe0f7-bc9a-4d70-9192-32a6581c8023"
      },
      "source": [
        "preds, targs = learn.get_preds()\n",
        "print(preds[:5],targs[:5]) # comparing predictions by eye\n",
        "r_msle(preds,targs) # DNN model accuracy on the some dataset\n",
        "\n"
      ],
      "execution_count": 68,
      "outputs": [
        {
          "output_type": "display_data",
          "data": {
            "text/html": [
              ""
            ],
            "text/plain": [
              "<IPython.core.display.HTML object>"
            ]
          },
          "metadata": {}
        },
        {
          "output_type": "stream",
          "name": "stdout",
          "text": [
            "tensor([[178488.4688],\n",
            "        [376258.1250],\n",
            "        [222946.9219],\n",
            "        [219536.7812],\n",
            "        [228541.0469]]) tensor([[176000.],\n",
            "        [345000.],\n",
            "        [207000.],\n",
            "        [230000.],\n",
            "        [265979.]])\n"
          ]
        },
        {
          "output_type": "execute_result",
          "data": {
            "text/plain": [
              "0.163519"
            ]
          },
          "metadata": {},
          "execution_count": 68
        }
      ]
    },
    {
      "cell_type": "markdown",
      "metadata": {
        "id": "FT0rh6DPrHF9"
      },
      "source": [
        "Let's save model..."
      ]
    },
    {
      "cell_type": "code",
      "metadata": {
        "colab": {
          "base_uri": "https://localhost:8080/"
        },
        "id": "Gu9kbggDHa7r",
        "outputId": "26751325-aa76-4b67-8f4e-d83206490a59"
      },
      "source": [
        "learn.save(Path('/content/drive/MyDrive/Datasets/house price')/'dnn18per.pkl')"
      ],
      "execution_count": 94,
      "outputs": [
        {
          "output_type": "execute_result",
          "data": {
            "text/plain": [
              "Path('/content/drive/MyDrive/Datasets/house price/dnn18per.pkl.pth')"
            ]
          },
          "metadata": {},
          "execution_count": 94
        }
      ]
    },
    {
      "cell_type": "markdown",
      "metadata": {
        "id": "yWcMIhCgzkkZ"
      },
      "source": [
        "## DNN test"
      ]
    },
    {
      "cell_type": "code",
      "metadata": {
        "id": "uWSiAJ4iznC-"
      },
      "source": [
        "test_df = pd.read_csv('/content/drive/MyDrive/Datasets/house price/test.csv')\n",
        "test_df = test_df[list(fin_df_nn.columns.drop('SalePrice'))]\n",
        "cont_nn, cat_nn = cont_cat_split(test_df,1,dep_var=dep_var)\n",
        "procs = [Categorify, FillMissing(add_col=False)]"
      ],
      "execution_count": 69,
      "outputs": []
    },
    {
      "cell_type": "code",
      "metadata": {
        "id": "YY4y_rL2z16W"
      },
      "source": [
        "test_to = TabularPandas(test_df, procs,cat_nn,cont_nn)\n",
        "ds = test_to.dataloaders(64)"
      ],
      "execution_count": 70,
      "outputs": []
    },
    {
      "cell_type": "code",
      "metadata": {
        "id": "4oESR-d4VTyk"
      },
      "source": [
        "preds = []\n",
        "for idx, row in ds.train.xs.iterrows():\n",
        "  preds.append( (learn.predict(row)[1])[0].item())"
      ],
      "execution_count": null,
      "outputs": []
    },
    {
      "cell_type": "code",
      "metadata": {
        "colab": {
          "base_uri": "https://localhost:8080/"
        },
        "id": "8i6F9jMRBq1m",
        "outputId": "e8d25164-87b5-4786-d406-3f42bef00ca8"
      },
      "source": [
        "preds[:5]"
      ],
      "execution_count": 95,
      "outputs": [
        {
          "output_type": "execute_result",
          "data": {
            "text/plain": [
              "[119175.9609375, 189337.765625, 235130.90625, 231405.1875, 202541.53125]"
            ]
          },
          "metadata": {},
          "execution_count": 95
        }
      ]
    },
    {
      "cell_type": "code",
      "metadata": {
        "id": "DnfVo2jDeBqh"
      },
      "source": [
        "#prepair submition dataframe\n",
        "preds_fn = {'SalePrice':preds}\n",
        "test_df = pd.DataFrame(data=preds_fn, index=pd.Index(range(1461,2920)))"
      ],
      "execution_count": 88,
      "outputs": []
    },
    {
      "cell_type": "code",
      "metadata": {
        "colab": {
          "base_uri": "https://localhost:8080/",
          "height": 419
        },
        "id": "2RNCd2fJDMHm",
        "outputId": "0b1e5219-1ebb-4530-e291-7846970a8180"
      },
      "source": [
        "test_df"
      ],
      "execution_count": 89,
      "outputs": [
        {
          "output_type": "execute_result",
          "data": {
            "text/html": [
              "<div>\n",
              "<style scoped>\n",
              "    .dataframe tbody tr th:only-of-type {\n",
              "        vertical-align: middle;\n",
              "    }\n",
              "\n",
              "    .dataframe tbody tr th {\n",
              "        vertical-align: top;\n",
              "    }\n",
              "\n",
              "    .dataframe thead th {\n",
              "        text-align: right;\n",
              "    }\n",
              "</style>\n",
              "<table border=\"1\" class=\"dataframe\">\n",
              "  <thead>\n",
              "    <tr style=\"text-align: right;\">\n",
              "      <th></th>\n",
              "      <th>SalePrice</th>\n",
              "    </tr>\n",
              "  </thead>\n",
              "  <tbody>\n",
              "    <tr>\n",
              "      <th>1461</th>\n",
              "      <td>119175.960938</td>\n",
              "    </tr>\n",
              "    <tr>\n",
              "      <th>1462</th>\n",
              "      <td>189337.765625</td>\n",
              "    </tr>\n",
              "    <tr>\n",
              "      <th>1463</th>\n",
              "      <td>235130.906250</td>\n",
              "    </tr>\n",
              "    <tr>\n",
              "      <th>1464</th>\n",
              "      <td>231405.187500</td>\n",
              "    </tr>\n",
              "    <tr>\n",
              "      <th>1465</th>\n",
              "      <td>202541.531250</td>\n",
              "    </tr>\n",
              "    <tr>\n",
              "      <th>...</th>\n",
              "      <td>...</td>\n",
              "    </tr>\n",
              "    <tr>\n",
              "      <th>2915</th>\n",
              "      <td>81802.250000</td>\n",
              "    </tr>\n",
              "    <tr>\n",
              "      <th>2916</th>\n",
              "      <td>91941.343750</td>\n",
              "    </tr>\n",
              "    <tr>\n",
              "      <th>2917</th>\n",
              "      <td>188843.421875</td>\n",
              "    </tr>\n",
              "    <tr>\n",
              "      <th>2918</th>\n",
              "      <td>116527.171875</td>\n",
              "    </tr>\n",
              "    <tr>\n",
              "      <th>2919</th>\n",
              "      <td>265796.125000</td>\n",
              "    </tr>\n",
              "  </tbody>\n",
              "</table>\n",
              "<p>1459 rows × 1 columns</p>\n",
              "</div>"
            ],
            "text/plain": [
              "          SalePrice\n",
              "1461  119175.960938\n",
              "1462  189337.765625\n",
              "1463  235130.906250\n",
              "1464  231405.187500\n",
              "1465  202541.531250\n",
              "...             ...\n",
              "2915   81802.250000\n",
              "2916   91941.343750\n",
              "2917  188843.421875\n",
              "2918  116527.171875\n",
              "2919  265796.125000\n",
              "\n",
              "[1459 rows x 1 columns]"
            ]
          },
          "metadata": {},
          "execution_count": 89
        }
      ]
    },
    {
      "cell_type": "code",
      "metadata": {
        "id": "NLXojIszheD2"
      },
      "source": [
        "#submit my solution\n",
        "with open('/content/drive/MyDrive/Datasets/house price/submit_DNN.csv','w') as f:\n",
        "\n",
        "  test_df.to_csv(f,index=True, index_label='Id')"
      ],
      "execution_count": 90,
      "outputs": []
    },
    {
      "cell_type": "markdown",
      "metadata": {
        "id": "OkkayPg5FUpJ"
      },
      "source": [
        "![Screenshot_3.png](data:image/png;base64,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)"
      ]
    },
    {
      "cell_type": "markdown",
      "metadata": {
        "id": "MDiW3TSgFwcs"
      },
      "source": [
        "Our DNN model predicts with 18% of accuracy. That's very well. Random forest model, as we remember, predicts with 29% of accuracy..."
      ]
    },
    {
      "cell_type": "markdown",
      "metadata": {
        "id": "VQT7LjNCErJi"
      },
      "source": [
        "**Thank you for your reading!**"
      ]
    }
  ]
}